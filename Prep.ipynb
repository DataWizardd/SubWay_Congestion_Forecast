{
 "cells": [
  {
   "cell_type": "markdown",
   "id": "1eeb5390-19d8-4acd-9905-a851c9896fdf",
   "metadata": {},
   "source": [
    "## **서울교통공사_1_8호선 역별 일별 시간대별 승객유형별 승하차인원**\n",
    "- 서울교통공사 1-8호선 역별 일별 시간대별 승객유형별(일반, 어린이, 중고생, 청소년, 우대권 등) 승하차 인원 정보\n",
    "- 데이터 기간 : 2015.01-2024.07\n",
    "- 데이터 출처 : 공공데이터포털\n",
    "- 링크 : [link](https://www.data.go.kr/data/15099330/fileData.do)"
   ]
  },
  {
   "cell_type": "code",
   "execution_count": 1,
   "id": "87d5408f-7965-4acf-b64c-2e8205ef4f4d",
   "metadata": {},
   "outputs": [],
   "source": [
    "# 위 링크에서 21년-23년 데이터 다운받아 합쳤습니다.(메인 데이터입니다)\n",
    "# 일단위 데이터입니다.\n",
    "# 해당 데이터에서 승하차인원(합과 차), 우대권인원수, 청소년인원수 변수를 만들었습니다."
   ]
  },
  {
   "cell_type": "markdown",
   "id": "a4489d90-2873-4ad3-a8f1-8239fcd53905",
   "metadata": {},
   "source": [
    "## **서울교통공사_지하철혼잡도정보**\n",
    "- 서울교통공사 1-8호선 30분 단위 평균 혼잡도로 30분간 지나는 열차들의 평균 혼잡도(정원대비 승차인원으로, 승차인과 좌석수가 일치할 경우를 혼잡도 34%로 산정)\n",
    "- 데이터 기간 : 2019-2024\n",
    "- 데이터 출처 : 공공데이터포털\n",
    "- 데이터 단위 : 분기별 업데이트\n",
    "- 아이디어 : 지하철 혼잡도 파악 가능\n",
    "- 링크 : [link](https://www.data.go.kr/data/15071311/fileData.do)"
   ]
  },
  {
   "cell_type": "code",
   "execution_count": 2,
   "id": "c5309b3f-e8d9-45d0-8804-8a19aaec8d82",
   "metadata": {},
   "outputs": [],
   "source": [
    "# 위 링크에서 21-23년 혼잡도 데이터를 다운받았습니다.\n",
    "# 시간은 05시부터 23시까지, 상선 혼잡도, 하선 혼잡도로 분리하여 메인 데이터에 합쳤습니다\n",
    "# 분기별 데이터 입니다."
   ]
  },
  {
   "cell_type": "markdown",
   "id": "cd82f53c-f37b-4681-99de-6e45f55d5551",
   "metadata": {},
   "source": [
    "## **서울교통공사_월별 환승유입인원**\n",
    "- 서울교통공사의 월별 환승유입인원 데이터\n",
    "- 데이터 기간 : 2023.12\n",
    "- 데이터 출처 : 공공데이터포털\n",
    "- 링크 : [link](https://www.data.go.kr/data/15044245/fileData.do)"
   ]
  },
  {
   "cell_type": "code",
   "execution_count": 3,
   "id": "e99f5e64-ae0a-4e50-956c-8bfa82402d14",
   "metadata": {},
   "outputs": [],
   "source": [
    "# 위 링크에서 21-23년 환승유입데이터를 다운받았습니다.\n",
    "# 역, 월별 환승유입인원을 메인 데이터에 붙였습니다.\n",
    "# 월별 데이터입니다."
   ]
  },
  {
   "cell_type": "markdown",
   "id": "44191121-cdad-431e-8a6d-5893340e90f0",
   "metadata": {},
   "source": [
    "## **서울교통공사_역사운영 현황**\n",
    "- 서울교통공사의 1~8호선 역사운영 현황(호선,역명,면적(제곱미터),층수,승강장유형,출입구(개소),환승노선 데이터\n",
    "- 데이터 기간 : 2024년 6월 30일 기준\n",
    "- 데이터 출처 : 공공데이터포털\n",
    "- 링크 : [link](https://www.data.go.kr/data/15044440/fileData.do)"
   ]
  },
  {
   "cell_type": "code",
   "execution_count": 4,
   "id": "4db3d276-1557-45e3-9df9-8fbc03226e87",
   "metadata": {},
   "outputs": [],
   "source": [
    "# 해당 데이터에서 역별(호선별) 면적, 출입구, 섬식여부, 환승노선 갯수를 추출해서 메인 데이터에 붙였습니다.\n",
    "# 이후 면적 변수와 승하차인원(합) 변수를 통해 승강장혼잡도(면적 대비 승하차인원) 변수를 만들었습니다.\n",
    "# 고정 데이터"
   ]
  },
  {
   "cell_type": "markdown",
   "id": "14eef755-fcf8-4a9e-9870-e169b5b92be1",
   "metadata": {},
   "source": [
    "## **종관기상관측**\n",
    "- 정해진 시각에 모든 관측소에서 같은 시각에 실시하는 지상관측\n",
    "- 데이터 기간 : 모든 기간\n",
    "- 데이터 출처 : 기상자료개방포털\n",
    "- 링크 : [link](https://data.kma.go.kr/data/grnd/selectAsosRltmList.do?pgmNo=36&tabNo=1)"
   ]
  },
  {
   "cell_type": "code",
   "execution_count": 5,
   "id": "5adc1396-f424-4382-8749-ea7e835edcf9",
   "metadata": {},
   "outputs": [],
   "source": [
    "# 위 링크에서 서울특별시 2021-2023 사이의 일시, 평균기온(°C), 일강수량(mm), 평균 풍속(m/s), 평균 상대습도(%), 일 최심적설(cm) 를 추출하여 메인 데이터에 붙였습니다."
   ]
  },
  {
   "cell_type": "markdown",
   "id": "e9c1371a-5954-40ca-81a2-6d9adc53e02c",
   "metadata": {},
   "source": [
    "## **지하철요금**\n",
    "- 성인요금 기준 2023-10-01 이전에는 1250, 이후에는 1400원"
   ]
  },
  {
   "cell_type": "code",
   "execution_count": 6,
   "id": "f042251c-6f51-4e9d-959b-970e42a7f8a8",
   "metadata": {},
   "outputs": [],
   "source": [
    "# df['지하철요금'] = np.where(pd.to_datetime(df['날짜']) < pd.to_datetime('2023-10-01'), 1250, 1400)\n",
    "# 해당 코드를 통해 메인 데이터에 붙였습니다."
   ]
  },
  {
   "cell_type": "markdown",
   "id": "985130bc-e8b4-46c0-96f5-2f034146e76f",
   "metadata": {},
   "source": [
    "## **USD KRW 환율**\n",
    "- 링크 : [link](https://kr.investing.com/currencies/usd-krw-historical-data)"
   ]
  },
  {
   "cell_type": "code",
   "execution_count": 7,
   "id": "bf34053f-805c-4310-96b3-d039d540ac1e",
   "metadata": {},
   "outputs": [],
   "source": [
    "# 21년부터 23년까지의 환율 데이터를 다운받았습니다.\n",
    "# 해당 데이터는 주말에 결측치가 있어, 이전 날 값으로 결측치를 채웠습니다.\n",
    "# 이후 메인 데이터에 붙였습니다."
   ]
  },
  {
   "cell_type": "markdown",
   "id": "f5aa2da8-c404-4fcb-a154-c01d03cf9a42",
   "metadata": {},
   "source": [
    "## **한국 CPI**\n",
    "- 링크 : [link](https://kr.investing.com/economic-calendar/south-korean-cpi-467)"
   ]
  },
  {
   "cell_type": "code",
   "execution_count": 8,
   "id": "2a9300cb-6de0-47b0-b082-1c6a5bf45f4d",
   "metadata": {},
   "outputs": [],
   "source": [
    "# 해당 데이터를 다운받아 메인 데이터에 붙였습니다\n",
    "# 추가로 CPI대비 지하철 요금이라는 변수를 추가했습니다.\n",
    "# df['CPI 대비 지하철요금'] = df_['한국CPI'] / df_merged6['지하철요금']"
   ]
  },
  {
   "cell_type": "markdown",
   "id": "e2e0b645-a626-4196-9a4c-8dbff7160bc7",
   "metadata": {},
   "source": [
    "## **경유가격**\n",
    "- 링크 : [link](https://www.opinet.co.kr/user/dopospdrg/dopOsPdrgSelect.do)"
   ]
  },
  {
   "cell_type": "code",
   "execution_count": 9,
   "id": "364ab3d1-6dc3-49fd-8ff4-dd13b1bbbcda",
   "metadata": {},
   "outputs": [],
   "source": [
    "# 위 링크에서 보통휘발유, 자동차용경유 일별 가격 데이터를 다운받아 메인 데이터에 붙였습니다."
   ]
  },
  {
   "cell_type": "markdown",
   "id": "e9581c59-9868-453d-96fe-da73795a78f4",
   "metadata": {},
   "source": [
    "## **실업률 지표**\n",
    "- 출처 : 통계청「경제활동인구조사」\n",
    "- 링크 : [link](https://www.index.go.kr/unity/potal/main/EachDtlPageDetail.do?idx_cd=1063)"
   ]
  },
  {
   "cell_type": "code",
   "execution_count": 10,
   "id": "829af202-8d76-4c8b-8623-333550e9a083",
   "metadata": {},
   "outputs": [],
   "source": [
    "# 위 링크에서 월별 실업률과 청년실업률 데이터를 다운받아 메인 데이터에 붙였습니다."
   ]
  },
  {
   "cell_type": "markdown",
   "id": "a9218da5-0019-4987-b84e-bbe142f4b16f",
   "metadata": {},
   "source": [
    "## **경기종합지수 지표**\n",
    "- 출처 : 통계청「산업활동동향」\n",
    "- 링크 : [link](https://www.index.go.kr/unity/potal/main/EachDtlPageDetail.do?idx_cd=1057)"
   ]
  },
  {
   "cell_type": "code",
   "execution_count": 11,
   "id": "ee878048-ed7c-4dc2-903b-f806db972c98",
   "metadata": {},
   "outputs": [],
   "source": [
    "# 위 링크에서 월별 동행지수 순환변동치와 월별 선행지수 순환변동치 데이터를 다운받아 메인 데이터에 붙였습니다."
   ]
  },
  {
   "cell_type": "markdown",
   "id": "7eb6ac39-7285-4b6d-a725-57f540e1c8fe",
   "metadata": {},
   "source": [
    "## **인구 지표**\n",
    "- 출처: 통계청「장래인구추계 시도편 : 2022-2052」, 국토교통부「지적통계」\n",
    "- 링크 : [link](https://www.index.go.kr/unity/potal/main/EachDtlPageDetail.do?idx_cd=1007)"
   ]
  },
  {
   "cell_type": "code",
   "execution_count": 12,
   "id": "1130e1ad-c872-4ab0-b033-aece88c60e17",
   "metadata": {},
   "outputs": [],
   "source": [
    "# 위 링크에서 연도별 서울 인구와 서울 인구밀도, 수도권 인구, 수도권 인구밀도 데이터를 다운받아 메인 데이터에 붙였습니다."
   ]
  },
  {
   "cell_type": "markdown",
   "id": "a71ad2c8-7231-41ee-a4fe-ac2fc8b17404",
   "metadata": {},
   "source": [
    "## **인구 지표**\n",
    "- 출처: 국토교통부 (시도별 자료)\n",
    "- 링크 : [link](https://www.index.go.kr/unity/potal/main/EachDtlPageDetail.do?idx_cd=1257)"
   ]
  },
  {
   "cell_type": "code",
   "execution_count": 13,
   "id": "a651613f-d11c-46dd-a88a-879d59648225",
   "metadata": {},
   "outputs": [],
   "source": [
    "# 위 링크에서 연도별 자동차 등록대수 데이터를 다운받아 메인 데이터에 붙였습니다."
   ]
  },
  {
   "cell_type": "markdown",
   "id": "0f267f0a-25c3-4395-8988-95edd648fa6a",
   "metadata": {},
   "source": [
    "## **인구 지표**\n",
    "- 출처: 한국은행 경제통계시스템(ecos) -> 1.3 금리\n",
    "- 링크 : [link](https://www.index.go.kr/unity/potal/main/EachDtlPageDetail.do?idx_cd=1073)"
   ]
  },
  {
   "cell_type": "code",
   "execution_count": 14,
   "id": "e141676b-8a0c-4bff-9f35-1a595c34f330",
   "metadata": {},
   "outputs": [],
   "source": [
    "# 위 링크에서 월별 기준금리 데이터를 다운받아 메인 데이터에 붙였습니다."
   ]
  },
  {
   "cell_type": "markdown",
   "id": "07ce5faf-9603-451c-86c0-a1cbe116292f",
   "metadata": {},
   "source": [
    "## **서울시 역코드로 지하철역별 열차 시간표 정보 검색**\n",
    "- 출처: 서울열린데이터광장\n",
    "- 링크(열차시간표) : [link](https://data.seoul.go.kr/dataList/OA-101/A/1/datasetView.do)\n",
    "- 링크(역코드) : [link](https://data.seoul.go.kr/dataList/OA-121/S/1/datasetView.do)"
   ]
  },
  {
   "cell_type": "code",
   "execution_count": 15,
   "id": "033339d9-b93b-411c-a183-7a769eb5098e",
   "metadata": {},
   "outputs": [],
   "source": [
    "# 상행과 하행 URL \n",
    "#url_up = \"http://openapi.seoul.go.kr:8088/446e7658546a616d3831654b44584a/xml/SearchSTNTimeTableByIDService/1/500/0239/3/1/\"\n",
    "#url_down = \"http://openapi.seoul.go.kr:8088/446e7658546a616d3831654b44584a/xml/SearchSTNTimeTableByIDService/1/500/0239/3/2/\"\n",
    "# https://data.seoul.go.kr/dataList/OA-121/S/1/datasetView.do 여기서 역번호 알아오기..\n",
    "\n",
    "# 상행/하행 데이터\n",
    "#def get_train_times(url):\n",
    "#    response = requests.get(url)\n",
    "#    time_groups = defaultdict(list)\n",
    "    \n",
    "#    if response.status_code == 200:\n",
    "#        root = ET.fromstring(response.content)\n",
    "        \n",
    "#        for row in root.findall('row'):\n",
    "#            arrivetime = row.find('ARRIVETIME').text  \n",
    "#            hour, minute, _ = arrivetime.split(':')   \n",
    "#            time_groups[hour].append(minute)          \n",
    "#    else:\n",
    "#        print(\"API 요청 실패:\", response.status_code)\n",
    "    \n",
    "#    return time_groups\n",
    "\n",
    "# 상행과 하행 시간 데이터\n",
    "#up_times = get_train_times(url_up)\n",
    "#down_times = get_train_times(url_down)\n",
    "\n",
    "# 출력\n",
    "#for hour in sorted(set(up_times.keys()).union(down_times.keys())):\n",
    "#    up_minutes = ','.join(up_times[hour]) if hour in up_times else ''\n",
    "#    down_minutes = ','.join(down_times[hour]) if hour in down_times else ''\n",
    "#    formatted_output = f'홍대입구역,2,공휴일,\"{hour}\",\"[{up_minutes}]\",\"[{down_minutes}]\"'\n",
    "#    print(formatted_output)\n",
    "\n",
    "# 해당 코드를 통해 수송인원이 높은 30개 역 시간표 정보(상행, 하행 시간표/ 평일, 토요일, 공휴일(공휴일+일요일)로 구분)를 추출했습니다.\n",
    "# 이후 역별 및 시간대별, 상행_평균운행간격, 하행_평균운행간격, 상행_운행횟수, 하행_운행횟수 변수를 만들었습니다."
   ]
  },
  {
   "cell_type": "markdown",
   "id": "5bb86cc2-c8f3-484a-accc-a3183fe3d90c",
   "metadata": {},
   "source": [
    "## **리틀 법칙을 활용하여 승강장_혼잡도 변수 만들기**\n",
    "- 리틀의 법칙 : 평균 재고 수준 = 평균 흐름율 * 평균흐름시간\n",
    "            -> 승강장 대기 인원 = 승객 도착률 * 평균대기시간 \n",
    "            -> 승강장 혼잡도 = 승강장 대기 인원 / 승강장 면적  "
   ]
  },
  {
   "cell_type": "code",
   "execution_count": null,
   "id": "dea0c9d1-f77b-4e48-9635-2e77cc3ebd86",
   "metadata": {},
   "outputs": [],
   "source": [
    "# 승강장_혼잡도 코드\n",
    "\n",
    "df_merge['역_시간별_평균운행간격'] = df_merge[['상행_평균운행간격', '하행_평균운행간격']].mean(axis=1)\n",
    "df_merge['날짜'] = pd.to_datetime(df_merge['날짜'], errors='coerce')\n",
    "df_merge['월_카운트'] = df_merge['날짜'].dt.to_period('M').map(lambda x: x.days_in_month)\n",
    "df_merge['월평균_환승유입인원수'] = df_merge['환승유입인원수'] / df_merge['월_카운트']\n",
    "df_merge['일별_승하차인원_합'] = df_merge.groupby('날짜')['승하차인원'].transform('sum')\n",
    "df_merge['시간대별_승하차_비율'] = df_merge['승하차인원'] / df_merge['일별_승하차인원_합']\n",
    "df_merge['시간대별_환승_승객_수'] = df_merge['월평균_환승유입인원수'] * df_merge['시간대별_승하차_비율']\n",
    "\n",
    "# 승객 도착률 계산\n",
    "df_merge['λ_승차'] = df_merge['승하차인원'] / 60 #시간대별 승하차인원\n",
    "df_merge['λ_환승'] = df_merge['시간대별_환승_승객_수'] / 60\n",
    "df_merge['λ_total'] = df_merge['λ_승차'] + df_merge['λ_환승']\n",
    "\n",
    "# 평균 대기 시간 계산\n",
    "df_merge['W_승차'] = df_merge['역_시간별_평균운행간격'] / 2\n",
    "df_merge['W_환승'] = 1.5 # 1.5분 대기라 가정\n",
    "\n",
    "df_merge['W_total'] = (\n",
    "    (df_merge['λ_승차'] * df_merge['W_승차'] + df_merge['λ_환승'] * df_merge['W_환승']) / df_merge['λ_total']\n",
    ")\n",
    "\n",
    "# 승강장 대기 인원 계산\n",
    "df_merge['L_total'] = df_merge['λ_total'] * df_merge['W_total']\n",
    "\n",
    "# 승강장 혼잡도 계산\n",
    "df_merge['승강장_혼잡도'] = df_merge['L_total'] / df_merge['면적']"
   ]
  },
  {
   "cell_type": "code",
   "execution_count": null,
   "id": "52620fab-021f-4db3-b35f-ddbc071342d0",
   "metadata": {},
   "outputs": [],
   "source": []
  }
 ],
 "metadata": {
  "kernelspec": {
   "display_name": "Python (my_new_env)",
   "language": "python",
   "name": "my_new_env"
  },
  "language_info": {
   "codemirror_mode": {
    "name": "ipython",
    "version": 3
   },
   "file_extension": ".py",
   "mimetype": "text/x-python",
   "name": "python",
   "nbconvert_exporter": "python",
   "pygments_lexer": "ipython3",
   "version": "3.9.20"
  }
 },
 "nbformat": 4,
 "nbformat_minor": 5
}
